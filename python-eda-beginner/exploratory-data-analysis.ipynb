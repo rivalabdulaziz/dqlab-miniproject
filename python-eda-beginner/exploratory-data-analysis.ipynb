{
 "cells": [
  {
   "cell_type": "code",
   "execution_count": 13,
   "metadata": {},
   "outputs": [],
   "source": [
    "import pandas as pd # Library untuk membaca dan memanipulasi data\n",
    "import matplotlib.pyplot as plt # Library untuk visualisasi data"
   ]
  },
  {
   "cell_type": "code",
   "execution_count": 14,
   "metadata": {},
   "outputs": [],
   "source": [
    "# Baca CSV file\n",
    "order_df = pd.read_csv(\"https://storage.googleapis.com/dqlab-dataset/order.csv\")"
   ]
  },
  {
   "cell_type": "code",
   "execution_count": 26,
   "metadata": {},
   "outputs": [
    {
     "name": "stdout",
     "output_type": "stream",
     "text": [
      "<class 'pandas.core.frame.DataFrame'>\n",
      "RangeIndex: 49999 entries, 0 to 49998\n",
      "Data columns (total 12 columns):\n",
      " #   Column                 Non-Null Count  Dtype  \n",
      "---  ------                 --------------  -----  \n",
      " 0   order_id               49999 non-null  object \n",
      " 1   quantity               49999 non-null  int64  \n",
      " 2   product_id             49999 non-null  object \n",
      " 3   price                  49999 non-null  int64  \n",
      " 4   seller_id              49999 non-null  object \n",
      " 5   shipping_cost          49999 non-null  int64  \n",
      " 6   customer_id            49999 non-null  object \n",
      " 7   order_status           49999 non-null  object \n",
      " 8   purchase_date          49999 non-null  object \n",
      " 9   payment_type           49999 non-null  object \n",
      " 10  product_category_name  49999 non-null  object \n",
      " 11  product_weight_gram    49980 non-null  float64\n",
      "dtypes: float64(1), int64(3), object(8)\n",
      "memory usage: 4.6+ MB\n"
     ]
    }
   ],
   "source": [
    "# Informasi tentang dataframe\n",
    "order_df.info()"
   ]
  },
  {
   "cell_type": "code",
   "execution_count": 15,
   "metadata": {},
   "outputs": [
    {
     "data": {
      "text/html": [
       "<div>\n",
       "<style scoped>\n",
       "    .dataframe tbody tr th:only-of-type {\n",
       "        vertical-align: middle;\n",
       "    }\n",
       "\n",
       "    .dataframe tbody tr th {\n",
       "        vertical-align: top;\n",
       "    }\n",
       "\n",
       "    .dataframe thead th {\n",
       "        text-align: right;\n",
       "    }\n",
       "</style>\n",
       "<table border=\"1\" class=\"dataframe\">\n",
       "  <thead>\n",
       "    <tr style=\"text-align: right;\">\n",
       "      <th></th>\n",
       "      <th>order_id</th>\n",
       "      <th>quantity</th>\n",
       "      <th>product_id</th>\n",
       "      <th>price</th>\n",
       "      <th>seller_id</th>\n",
       "      <th>freight_value</th>\n",
       "      <th>customer_id</th>\n",
       "      <th>order_status</th>\n",
       "      <th>purchase_date</th>\n",
       "      <th>payment_type</th>\n",
       "      <th>product_category_name</th>\n",
       "      <th>product_weight_gram</th>\n",
       "    </tr>\n",
       "  </thead>\n",
       "  <tbody>\n",
       "    <tr>\n",
       "      <th>0</th>\n",
       "      <td>2e7a8482f6fb09756ca50c10d7bfc047</td>\n",
       "      <td>2</td>\n",
       "      <td>f293394c72c9b5fafd7023301fc21fc2</td>\n",
       "      <td>1489000</td>\n",
       "      <td>1554a68530182680ad5c8b042c3ab563</td>\n",
       "      <td>28000</td>\n",
       "      <td>08c5351a6aca1c1589a38f244edeee9d</td>\n",
       "      <td>shipped</td>\n",
       "      <td>2016-09-05</td>\n",
       "      <td>virtual account</td>\n",
       "      <td>fashion</td>\n",
       "      <td>1800.0</td>\n",
       "    </tr>\n",
       "    <tr>\n",
       "      <th>1</th>\n",
       "      <td>2e7a8482f6fb09756ca50c10d7bfc047</td>\n",
       "      <td>1</td>\n",
       "      <td>c1488892604e4ba5cff5b4eb4d595400</td>\n",
       "      <td>1756000</td>\n",
       "      <td>1554a68530182680ad5c8b042c3ab563</td>\n",
       "      <td>45000</td>\n",
       "      <td>08c5351a6aca1c1589a38f244edeee9d</td>\n",
       "      <td>shipped</td>\n",
       "      <td>2016-09-05</td>\n",
       "      <td>virtual account</td>\n",
       "      <td>automotive</td>\n",
       "      <td>1400.0</td>\n",
       "    </tr>\n",
       "    <tr>\n",
       "      <th>2</th>\n",
       "      <td>e5fa5a7210941f7d56d0208e4e071d35</td>\n",
       "      <td>1</td>\n",
       "      <td>f3c2d01a84c947b078e32bbef0718962</td>\n",
       "      <td>1707000</td>\n",
       "      <td>a425f92c199eb576938df686728acd20</td>\n",
       "      <td>174000</td>\n",
       "      <td>683c54fc24d40ee9f8a6fc179fd9856c</td>\n",
       "      <td>canceled</td>\n",
       "      <td>2016-09-05</td>\n",
       "      <td>e-wallet</td>\n",
       "      <td>toys</td>\n",
       "      <td>700.0</td>\n",
       "    </tr>\n",
       "    <tr>\n",
       "      <th>3</th>\n",
       "      <td>3b697a20d9e427646d92567910af6d57</td>\n",
       "      <td>1</td>\n",
       "      <td>3ae08df6bcbfe23586dd431c40bddbb7</td>\n",
       "      <td>3071000</td>\n",
       "      <td>522620dcb18a6b31cd7bdf73665113a9</td>\n",
       "      <td>154000</td>\n",
       "      <td>355077684019f7f60a031656bd7262b8</td>\n",
       "      <td>delivered</td>\n",
       "      <td>2016-10-03</td>\n",
       "      <td>e-wallet</td>\n",
       "      <td>utilities</td>\n",
       "      <td>300.0</td>\n",
       "    </tr>\n",
       "    <tr>\n",
       "      <th>4</th>\n",
       "      <td>71303d7e93b399f5bcd537d124c0bcfa</td>\n",
       "      <td>1</td>\n",
       "      <td>d2998d7ced12f83f9b832f33cf6507b6</td>\n",
       "      <td>3833000</td>\n",
       "      <td>25e6ffe976bd75618accfe16cefcbd0d</td>\n",
       "      <td>147000</td>\n",
       "      <td>b106b360fe2ef8849fbbd056f777b4d5</td>\n",
       "      <td>canceled</td>\n",
       "      <td>2016-10-03</td>\n",
       "      <td>e-wallet</td>\n",
       "      <td>fashion</td>\n",
       "      <td>500.0</td>\n",
       "    </tr>\n",
       "  </tbody>\n",
       "</table>\n",
       "</div>"
      ],
      "text/plain": [
       "                           order_id  quantity  \\\n",
       "0  2e7a8482f6fb09756ca50c10d7bfc047         2   \n",
       "1  2e7a8482f6fb09756ca50c10d7bfc047         1   \n",
       "2  e5fa5a7210941f7d56d0208e4e071d35         1   \n",
       "3  3b697a20d9e427646d92567910af6d57         1   \n",
       "4  71303d7e93b399f5bcd537d124c0bcfa         1   \n",
       "\n",
       "                         product_id    price  \\\n",
       "0  f293394c72c9b5fafd7023301fc21fc2  1489000   \n",
       "1  c1488892604e4ba5cff5b4eb4d595400  1756000   \n",
       "2  f3c2d01a84c947b078e32bbef0718962  1707000   \n",
       "3  3ae08df6bcbfe23586dd431c40bddbb7  3071000   \n",
       "4  d2998d7ced12f83f9b832f33cf6507b6  3833000   \n",
       "\n",
       "                          seller_id  freight_value  \\\n",
       "0  1554a68530182680ad5c8b042c3ab563          28000   \n",
       "1  1554a68530182680ad5c8b042c3ab563          45000   \n",
       "2  a425f92c199eb576938df686728acd20         174000   \n",
       "3  522620dcb18a6b31cd7bdf73665113a9         154000   \n",
       "4  25e6ffe976bd75618accfe16cefcbd0d         147000   \n",
       "\n",
       "                        customer_id order_status purchase_date  \\\n",
       "0  08c5351a6aca1c1589a38f244edeee9d      shipped    2016-09-05   \n",
       "1  08c5351a6aca1c1589a38f244edeee9d      shipped    2016-09-05   \n",
       "2  683c54fc24d40ee9f8a6fc179fd9856c     canceled    2016-09-05   \n",
       "3  355077684019f7f60a031656bd7262b8    delivered    2016-10-03   \n",
       "4  b106b360fe2ef8849fbbd056f777b4d5     canceled    2016-10-03   \n",
       "\n",
       "      payment_type product_category_name  product_weight_gram  \n",
       "0  virtual account               fashion               1800.0  \n",
       "1  virtual account            automotive               1400.0  \n",
       "2         e-wallet                  toys                700.0  \n",
       "3         e-wallet             utilities                300.0  \n",
       "4         e-wallet               fashion                500.0  "
      ]
     },
     "execution_count": 15,
     "metadata": {},
     "output_type": "execute_result"
    }
   ],
   "source": [
    "# Inspeksi 5 data teratas\n",
    "order_df.head()"
   ]
  },
  {
   "cell_type": "code",
   "execution_count": 53,
   "metadata": {},
   "outputs": [
    {
     "data": {
      "text/html": [
       "<style type=\"text/css\">\n",
       "#T_d2639_row3_col0, #T_d2639_row3_col1 {\n",
       "  background-color: green;\n",
       "}\n",
       "</style>\n",
       "<table id=\"T_d2639\">\n",
       "  <thead>\n",
       "    <tr>\n",
       "      <th id=\"T_d2639_level0_col0\" class=\"col_heading level0 col0\" >payment_type</th>\n",
       "      <th id=\"T_d2639_level0_col1\" class=\"col_heading level0 col1\" >price</th>\n",
       "    </tr>\n",
       "  </thead>\n",
       "  <tbody>\n",
       "    <tr>\n",
       "      <td id=\"T_d2639_row0_col0\" class=\"data row0 col0\" >credit card</td>\n",
       "      <td id=\"T_d2639_row0_col1\" class=\"data row0 col1\" >Rp2,587,500</td>\n",
       "    </tr>\n",
       "    <tr>\n",
       "      <td id=\"T_d2639_row1_col0\" class=\"data row1 col0\" >debit card</td>\n",
       "      <td id=\"T_d2639_row1_col1\" class=\"data row1 col1\" >Rp2,621,500</td>\n",
       "    </tr>\n",
       "    <tr>\n",
       "      <td id=\"T_d2639_row2_col0\" class=\"data row2 col0\" >e-wallet</td>\n",
       "      <td id=\"T_d2639_row2_col1\" class=\"data row2 col1\" >Rp2,589,000</td>\n",
       "    </tr>\n",
       "    <tr>\n",
       "      <td id=\"T_d2639_row3_col0\" class=\"data row3 col0\" >virtual account</td>\n",
       "      <td id=\"T_d2639_row3_col1\" class=\"data row3 col1\" >Rp2,643,000</td>\n",
       "    </tr>\n",
       "  </tbody>\n",
       "</table>\n"
      ],
      "text/plain": [
       "<pandas.io.formats.style.Styler at 0x231f10a6940>"
      ]
     },
     "execution_count": 53,
     "metadata": {},
     "output_type": "execute_result"
    }
   ],
   "source": [
    "# Median price yang dibayar customer dari masing-masing metode pembayaran.\n",
    "median_price = order_df[\"price\"].groupby(order_df[\"payment_type\"]).median()\\\n",
    "                .reset_index()                \n",
    "median_price.style.format({'price': 'Rp{:,.0f}'})\\\n",
    "                .hide(axis='index')\\\n",
    "                .highlight_max(color='green')"
   ]
  },
  {
   "cell_type": "code",
   "execution_count": 64,
   "metadata": {},
   "outputs": [
    {
     "name": "stdout",
     "output_type": "stream",
     "text": [
      "Rp26,884\n"
     ]
    }
   ],
   "source": [
    "# Informasi tambahan: deviasi standar dari median price per payment type\n",
    "print('Rp' + str(f'{int(median_price.price.std()):,}'))"
   ]
  },
  {
   "cell_type": "code",
   "execution_count": 52,
   "metadata": {},
   "outputs": [
    {
     "data": {
      "text/plain": [
       "23829    200000\n",
       "12011    200000\n",
       "10984    200000\n",
       "29722    200000\n",
       "15259    200000\n",
       "          ...  \n",
       "2891       9000\n",
       "36815      9000\n",
       "8175       9000\n",
       "4034       9000\n",
       "32994      9000\n",
       "Name: shipping_cost, Length: 49999, dtype: int64"
      ]
     },
     "execution_count": 52,
     "metadata": {},
     "output_type": "execute_result"
    }
   ],
   "source": [
    "# Ubah freight_value menjadi shipping_cost dan cari shipping_cost \n",
    "# termahal dari data penjualan tersebut menggunakan sort.\n",
    "order_df.rename(columns={\"freight_value\": \"shipping_cost\"}, inplace=True)\n",
    "sort_value = order_df.sort_values(by=\"shipping_cost\", ascending=0)\n",
    "sort_value.shipping_cost"
   ]
  },
  {
   "cell_type": "code",
   "execution_count": 117,
   "metadata": {},
   "outputs": [
    {
     "data": {
      "text/html": [
       "<style type=\"text/css\">\n",
       "#T_6ce3b_row0_col1 {\n",
       "  background-color: green;\n",
       "}\n",
       "</style>\n",
       "<table id=\"T_6ce3b\">\n",
       "  <thead>\n",
       "    <tr>\n",
       "      <th class=\"blank level0\" >&nbsp;</th>\n",
       "      <th id=\"T_6ce3b_level0_col0\" class=\"col_heading level0 col0\" >mean (kg)</th>\n",
       "      <th id=\"T_6ce3b_level0_col1\" class=\"col_heading level0 col1\" >std (kg)</th>\n",
       "    </tr>\n",
       "    <tr>\n",
       "      <th class=\"index_name level0\" >product_category_name</th>\n",
       "      <th class=\"blank col0\" >&nbsp;</th>\n",
       "      <th class=\"blank col1\" >&nbsp;</th>\n",
       "    </tr>\n",
       "  </thead>\n",
       "  <tbody>\n",
       "    <tr>\n",
       "      <th id=\"T_6ce3b_level0_row0\" class=\"row_heading level0 row0\" >automotive</th>\n",
       "      <td id=\"T_6ce3b_row0_col0\" class=\"data row0 col0\" >2.13</td>\n",
       "      <td id=\"T_6ce3b_row0_col1\" class=\"data row0 col1\" >3.80</td>\n",
       "    </tr>\n",
       "    <tr>\n",
       "      <th id=\"T_6ce3b_level0_row1\" class=\"row_heading level0 row1\" >beauty</th>\n",
       "      <td id=\"T_6ce3b_row1_col0\" class=\"data row1 col0\" >2.12</td>\n",
       "      <td id=\"T_6ce3b_row1_col1\" class=\"data row1 col1\" >3.84</td>\n",
       "    </tr>\n",
       "    <tr>\n",
       "      <th id=\"T_6ce3b_level0_row2\" class=\"row_heading level0 row2\" >electronics</th>\n",
       "      <td id=\"T_6ce3b_row2_col0\" class=\"data row2 col0\" >2.14</td>\n",
       "      <td id=\"T_6ce3b_row2_col1\" class=\"data row2 col1\" >3.84</td>\n",
       "    </tr>\n",
       "    <tr>\n",
       "      <th id=\"T_6ce3b_level0_row3\" class=\"row_heading level0 row3\" >fashion</th>\n",
       "      <td id=\"T_6ce3b_row3_col0\" class=\"data row3 col0\" >2.25</td>\n",
       "      <td id=\"T_6ce3b_row3_col1\" class=\"data row3 col1\" >3.86</td>\n",
       "    </tr>\n",
       "    <tr>\n",
       "      <th id=\"T_6ce3b_level0_row4\" class=\"row_heading level0 row4\" >gadget</th>\n",
       "      <td id=\"T_6ce3b_row4_col0\" class=\"data row4 col0\" >2.23</td>\n",
       "      <td id=\"T_6ce3b_row4_col1\" class=\"data row4 col1\" >3.96</td>\n",
       "    </tr>\n",
       "    <tr>\n",
       "      <th id=\"T_6ce3b_level0_row5\" class=\"row_heading level0 row5\" >sports</th>\n",
       "      <td id=\"T_6ce3b_row5_col0\" class=\"data row5 col0\" >2.25</td>\n",
       "      <td id=\"T_6ce3b_row5_col1\" class=\"data row5 col1\" >4.03</td>\n",
       "    </tr>\n",
       "    <tr>\n",
       "      <th id=\"T_6ce3b_level0_row6\" class=\"row_heading level0 row6\" >toys</th>\n",
       "      <td id=\"T_6ce3b_row6_col0\" class=\"data row6 col0\" >2.20</td>\n",
       "      <td id=\"T_6ce3b_row6_col1\" class=\"data row6 col1\" >3.96</td>\n",
       "    </tr>\n",
       "    <tr>\n",
       "      <th id=\"T_6ce3b_level0_row7\" class=\"row_heading level0 row7\" >utilities</th>\n",
       "      <td id=\"T_6ce3b_row7_col0\" class=\"data row7 col0\" >2.29</td>\n",
       "      <td id=\"T_6ce3b_row7_col1\" class=\"data row7 col1\" >4.15</td>\n",
       "    </tr>\n",
       "  </tbody>\n",
       "</table>\n"
      ],
      "text/plain": [
       "<pandas.io.formats.style.Styler at 0x231f13d7af0>"
      ]
     },
     "execution_count": 117,
     "metadata": {},
     "output_type": "execute_result"
    }
   ],
   "source": [
    "# Untuk product_category_name, berapa  rata-rata weight produk tersebut \n",
    "# dan standar deviasi mana yang terkecil dari weight tersebut, \n",
    "mean_std_value = order_df[\"product_weight_gram\"].groupby(order_df[\"product_category_name\"])\\\n",
    "                .agg({'mean', 'std'})\\\n",
    "                .apply(lambda x: x/1000)\n",
    "mean_std_value.rename(columns={'mean': 'mean (kg)', 'std': 'std (kg)'}, inplace=True)\n",
    "mean_std_value.style.highlight_min(subset='std (kg)', color='green')\\\n",
    "                    .format('{:.2f}')"
   ]
  },
  {
   "cell_type": "code",
   "execution_count": 133,
   "metadata": {},
   "outputs": [
    {
     "data": {
      "image/png": "[encoded data removed]",
      "text/plain": [
       "<Figure size 500x300 with 1 Axes>"
      ]
     },
     "metadata": {},
     "output_type": "display_data"
    }
   ],
   "source": [
    "# Buat histogram quantity penjualan dari dataset tersebutuntuk melihat persebaran quantity \n",
    "# penjualan tersebut\n",
    "order_df[[\"quantity\"]].hist(figsize=(5, 3), bins=10, color='green')\n",
    "plt.title('Distribution of Sold Product Quantity', pad=20)\n",
    "plt.xlabel('Quantity', labelpad=10)\n",
    "plt.ylabel('Total of Sold Product', labelpad=10)\n",
    "plt.grid(linestyle='-.', linewidth=0.5)\n",
    "plt.show() "
   ]
  }
 ],
 "metadata": {
  "kernelspec": {
   "display_name": "Python 3.9.12 ('base')",
   "language": "python",
   "name": "python3"
  },
  "language_info": {
   "codemirror_mode": {
    "name": "ipython",
    "version": 3
   },
   "file_extension": ".py",
   "mimetype": "text/x-python",
   "name": "python",
   "nbconvert_exporter": "python",
   "pygments_lexer": "ipython3",
   "version": "3.9.12"
  },
  "orig_nbformat": 4,
  "vscode": {
   "interpreter": {
    "hash": "95d50a5c078e45808b0310509146bdfa25d1e01a1940ba5c1a212b3c73de28e0"
   }
  }
 },
 "nbformat": 4,
 "nbformat_minor": 2
}
